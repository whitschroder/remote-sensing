{
 "cells": [
  {
   "cell_type": "markdown",
   "id": "c5ebbcd6",
   "metadata": {},
   "source": [
    "# Week 3\n",
    "\n",
    "Coming soon\n",
    "\n",
    "## Coming soon"
   ]
  },
  {
   "cell_type": "code",
   "execution_count": 1,
   "id": "408d3148",
   "metadata": {},
   "outputs": [
    {
     "name": "stdout",
     "output_type": "stream",
     "text": [
      "4\n"
     ]
    }
   ],
   "source": [
    "print(2 + 2)"
   ]
  },
  {
   "cell_type": "markdown",
   "id": "edd0d09d",
   "metadata": {},
   "source": [
    "```{seealso}\n",
    "Coming soon\n",
    "```\n",
    "\n",
    "## Coming soon"
   ]
  }
 ],
 "metadata": {
  "jupytext": {
   "formats": "md:myst",
   "text_representation": {
    "extension": ".md",
    "format_name": "myst",
    "format_version": 0.13,
    "jupytext_version": "1.11.5"
   }
  },
  "kernelspec": {
   "display_name": "Python 3",
   "language": "python",
   "name": "python3"
  },
  "language_info": {
   "codemirror_mode": {
    "name": "ipython",
    "version": 3
   },
   "file_extension": ".py",
   "mimetype": "text/x-python",
   "name": "python",
   "nbconvert_exporter": "python",
   "pygments_lexer": "ipython3",
   "version": "3.11.8"
  },
  "source_map": [
   13,
   21,
   23
  ]
 },
 "nbformat": 4,
 "nbformat_minor": 5
}